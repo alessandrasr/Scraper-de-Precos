{
 "cells": [
  {
   "cell_type": "code",
   "execution_count": 12,
   "metadata": {},
   "outputs": [],
   "source": [
    "# BIBLIOTECAS\n",
    "from selenium import webdriver # type: ignore\n",
    "from webdriver_manager.chrome import ChromeDriverManager # type: ignore\n",
    "from selenium.webdriver.common.by import By # type: ignore\n",
    "import pandas as pd # type: ignore\n",
    "from selenium.webdriver.support.ui import Select # type: ignore\n",
    "from selenium.webdriver.support import expected_conditions as EC # type: ignore\n",
    "from selenium.webdriver.support.ui import WebDriverWait # type: ignore\n",
    "import openpyxl # type: ignore"
   ]
  },
  {
   "cell_type": "code",
   "execution_count": 13,
   "metadata": {},
   "outputs": [],
   "source": [
    "driver = webdriver.Chrome()\n",
    "driver.get('https://www.amazon.com.br/ref=nav_logo')"
   ]
  },
  {
   "cell_type": "code",
   "execution_count": 14,
   "metadata": {},
   "outputs": [],
   "source": [
    "driver.implicitly_wait(time_to_wait=10)"
   ]
  },
  {
   "cell_type": "code",
   "execution_count": 15,
   "metadata": {},
   "outputs": [],
   "source": [
    "pesquisar = driver.find_element(By.XPATH, '//*[@id=\"twotabsearchtextbox\"]')\n",
    "pesquisar.send_keys('Computador e Informática')\n",
    "\n",
    "botao = driver.find_element(By.XPATH, '//*[@id=\"nav-search-submit-button\"]')\n",
    "botao.click()"
   ]
  },
  {
   "cell_type": "code",
   "execution_count": null,
   "metadata": {},
   "outputs": [],
   "source": [
    "# Coleta as informações sobre os produtos, preço e link\n",
    "info = driver.find_elements(By.CLASS_NAME, 'a-size-base-plus.a-color-base.a-text-normal')\n",
    "preco = driver.find_elements(By.CLASS_NAME, \"a-section.a-spacing-none.a-spacing-top-small.s-price-instructions-style\")\n",
    "link_foto = driver.find_elements(By.XPATH, '//div[@class=\"s-main-slot s-result-list s-search-results sg-row\"]/div//h2/a')\n",
    "\n",
    "# Carrega a planilha onde os dados serão salvos\n",
    "planilha = openpyxl.load_workbook('PlanilhaAmazon.xlsx')\n",
    "aba = planilha.active\n",
    "\n",
    "# Determina a linha atual da planilha para começar a gravar\n",
    "linha_atual = aba.max_row + 1\n",
    "\n",
    "# Itera sobre os produtos, preços e links, salvando-os na planilha\n",
    "for item, preco_item, link in zip(info, preco, link_foto):\n",
    "    url = link.get_attribute(\"href\")  # Pega o link do produto\n",
    "    item_texto = item.text            # Pega a descrição do produto\n",
    "    preco_texto = preco_item.text     # Pega o preço do produto\n",
    "    \n",
    "    # Preenche as células da planilha\n",
    "    aba.cell(row=linha_atual, column=1, value=item_texto)\n",
    "    aba.cell(row=linha_atual, column=2, value=preco_texto)\n",
    "    aba.cell(row=linha_atual, column=3, value=url)\n",
    "    \n",
    "    linha_atual += 1  # Avança para a próxima linha da planilha\n",
    "\n",
    "# Salva as alterações na planilha\n",
    "planilha.save('PlanilhaAmazon.xlsx')"
   ]
  }
 ],
 "metadata": {
  "kernelspec": {
   "display_name": "Python 3",
   "language": "python",
   "name": "python3"
  },
  "language_info": {
   "codemirror_mode": {
    "name": "ipython",
    "version": 3
   },
   "file_extension": ".py",
   "mimetype": "text/x-python",
   "name": "python",
   "nbconvert_exporter": "python",
   "pygments_lexer": "ipython3",
   "version": "3.13.0"
  }
 },
 "nbformat": 4,
 "nbformat_minor": 2
}
